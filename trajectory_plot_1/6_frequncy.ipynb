{
 "cells": [
  {
   "cell_type": "code",
   "execution_count": 10,
   "metadata": {},
   "outputs": [
    {
     "name": "stdout",
     "output_type": "stream",
     "text": [
      "     scenario  participant  interaction_count\n",
      "0           1            8                991\n",
      "1           1            9                471\n",
      "2           1           10                498\n",
      "3           1           12                703\n",
      "4           1           13                512\n",
      "..        ...          ...                ...\n",
      "211         4           59                865\n",
      "212         4           60               1458\n",
      "213         4           61                705\n",
      "214         4           62               1343\n",
      "215         4           63                616\n",
      "\n",
      "[216 rows x 3 columns]\n"
     ]
    }
   ],
   "source": [
    "import pandas as pd\n",
    "\n",
    "# Assuming your DataFrame is named df\n",
    "df = pd.read_csv('df_all.csv')\n",
    "dff = pd.read_csv('result_phase_analysis.csv')\n",
    "# Filter the DataFrame\n",
    "filtered_df = df[(df['phase'] == 'navigation') & (df['mapInteractions'] != '')]\n",
    "\n",
    "# Group by scenario and participant, and count occurrences\n",
    "result = filtered_df.groupby(['scenario', 'participant']).size().reset_index(name='interaction_count')\n",
    "\n",
    "print(result)\n",
    "\n",
    "df_checktimes = pd.merge(dff, result, on = ['participant', 'scenario'])\n",
    "df_checktimes['frequency_distance'] = round(df_checktimes['interaction_count'] / (df_checktimes['planning_distance'] + df_checktimes['navigating_distance']),2)\n",
    "df_checktimes['frequency_time'] = round(df_checktimes['interaction_count'] / (df_checktimes['planning_time'] + df_checktimes['navigation_time']),2)\n",
    "\n",
    "\n",
    "df_checktimes.to_csv('result_checktimes.csv')"
   ]
  }
 ],
 "metadata": {
  "kernelspec": {
   "display_name": "Python 3",
   "language": "python",
   "name": "python3"
  },
  "language_info": {
   "codemirror_mode": {
    "name": "ipython",
    "version": 3
   },
   "file_extension": ".py",
   "mimetype": "text/x-python",
   "name": "python",
   "nbconvert_exporter": "python",
   "pygments_lexer": "ipython3",
   "version": "3.11.0"
  }
 },
 "nbformat": 4,
 "nbformat_minor": 2
}
