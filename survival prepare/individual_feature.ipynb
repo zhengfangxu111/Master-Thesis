{
 "cells": [
  {
   "cell_type": "code",
   "execution_count": 15,
   "metadata": {},
   "outputs": [
    {
     "name": "stdout",
     "output_type": "stream",
     "text": [
      "      Unnamed: 0  event_number  participant  trajectory_Id  traffic_density  \\\n",
      "0              0             1            8              1                0   \n",
      "1              1             2            8              1                0   \n",
      "2              2             3            8              2                0   \n",
      "3              3             4            8              2                0   \n",
      "4              4             5            8              2                0   \n",
      "...          ...           ...          ...            ...              ...   \n",
      "3118        3118          3119           63            863                1   \n",
      "3119        3119          3120           63            863                1   \n",
      "3120        3120          3121           63            863                1   \n",
      "3121        3121          3122           63            863                1   \n",
      "3122        3122          3123           63            863                1   \n",
      "\n",
      "      map_type  total_inactive_time  state  \n",
      "0            0                 5.23      1  \n",
      "1            0                35.79      1  \n",
      "2            0                15.79      1  \n",
      "3            0                52.18      1  \n",
      "4            0                39.23      1  \n",
      "...        ...                  ...    ...  \n",
      "3118         1                 0.49      1  \n",
      "3119         1                 0.76      1  \n",
      "3120         1                 0.43      1  \n",
      "3121         1                 1.94      1  \n",
      "3122         1                13.38      1  \n",
      "\n",
      "[3118 rows x 8 columns]\n"
     ]
    }
   ],
   "source": [
    "import pandas as pd\n",
    "\n",
    "df_individual = pd.read_csv('individual.csv')\n",
    "df_result = pd.read_csv('result.csv')\n",
    "\n",
    "df_result = df_result[df_result['total_inactive_time'] != 0]\n",
    "print(df_result)"
   ]
  },
  {
   "cell_type": "code",
   "execution_count": 18,
   "metadata": {},
   "outputs": [
    {
     "name": "stdout",
     "output_type": "stream",
     "text": [
      "      event_number  participant  trajectory_Id  traffic_density  map_type  \\\n",
      "0                1            8              1                0         0   \n",
      "1                2            8              1                0         0   \n",
      "2                3            8              2                0         0   \n",
      "3                4            8              2                0         0   \n",
      "4                5            8              2                0         0   \n",
      "...            ...          ...            ...              ...       ...   \n",
      "3113          3119           63            863                1         1   \n",
      "3114          3120           63            863                1         1   \n",
      "3115          3121           63            863                1         1   \n",
      "3116          3122           63            863                1         1   \n",
      "3117          3123           63            863                1         1   \n",
      "\n",
      "      total_inactive_time  state  sbsod_score  gender  age  \\\n",
      "0                    5.23      1         2.40       0    1   \n",
      "1                   35.79      1         2.40       0    1   \n",
      "2                   15.79      1         2.40       0    1   \n",
      "3                   52.18      1         2.40       0    1   \n",
      "4                   39.23      1         2.40       0    1   \n",
      "...                   ...    ...          ...     ...  ...   \n",
      "3113                 0.49      1         4.07       0    0   \n",
      "3114                 0.76      1         4.07       0    0   \n",
      "3115                 0.43      1         4.07       0    0   \n",
      "3116                 1.94      1         4.07       0    0   \n",
      "3117                13.38      1         4.07       0    0   \n",
      "\n",
      "      mobile_map_freq_num  \n",
      "0                       3  \n",
      "1                       3  \n",
      "2                       3  \n",
      "3                       3  \n",
      "4                       3  \n",
      "...                   ...  \n",
      "3113                    3  \n",
      "3114                    3  \n",
      "3115                    3  \n",
      "3116                    3  \n",
      "3117                    3  \n",
      "\n",
      "[3118 rows x 11 columns]\n"
     ]
    }
   ],
   "source": [
    "# combine\n",
    "\n",
    "df_merge = df_result.merge(df_individual, how= 'left', left_on= 'participant', right_on= 'id')\n",
    "df_merge = df_merge.drop(columns= ['id'])\n",
    "df_merge = df_merge.drop(columns= ['Unnamed: 0_y'])\n",
    "df_merge = df_merge.drop(columns= ['Unnamed: 0_x'])\n",
    "df_merge = df_merge.drop(columns= ['paper_map_freq'])\n",
    "df_merge = df_merge.drop(columns= ['comp_map_freq'])\n",
    "df_merge = df_merge.drop(columns= ['mobile_map_freq'])\n",
    "df_merge = df_merge.drop(columns= ['paper_map_freq_num'])\n",
    "df_merge = df_merge.drop(columns= ['comp_map_freq_num'])\n",
    "df_merge['gender'] = df_merge['gender'].replace({'Male': 1, 'Female': 0})\n",
    "df_merge['age'] = df_merge['age'].replace({'18-24': 0, '25-34': 1, '35-44':2})\n",
    "\n",
    "df_merge['sbsod_score'] = df_merge['sbsod_score'].round(2)\n",
    "print(df_merge)\n",
    "\n",
    "df_merge.to_csv('result_individual.csv')"
   ]
  }
 ],
 "metadata": {
  "kernelspec": {
   "display_name": "geo876",
   "language": "python",
   "name": "python3"
  },
  "language_info": {
   "codemirror_mode": {
    "name": "ipython",
    "version": 3
   },
   "file_extension": ".py",
   "mimetype": "text/x-python",
   "name": "python",
   "nbconvert_exporter": "python",
   "pygments_lexer": "ipython3",
   "version": "3.11.0"
  }
 },
 "nbformat": 4,
 "nbformat_minor": 2
}
