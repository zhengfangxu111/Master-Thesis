{
 "cells": [
  {
   "cell_type": "code",
   "execution_count": 24,
   "metadata": {},
   "outputs": [],
   "source": [
    "import pandas as pd\n",
    "\n",
    "df = pd.read_csv('df_active.csv')\n",
    "\n",
    "# Find the indices of the rows where taskState contains 'setNavigationTarget'\n",
    "index_set_navigation_target = df[df['taskState'].str.contains('setNavigationTarget', na=False)].index\n",
    "\n",
    "# Loop through each identified index and replace the values in 'mapInteractions' for the following three rows\n",
    "for idx in index_set_navigation_target:\n",
    "    df.loc[idx + 1:idx + 3, 'mapInteractions'] = ''\n",
    "\n",
    "df.to_csv('see.csv')\n"
   ]
  },
  {
   "cell_type": "code",
   "execution_count": 18,
   "metadata": {},
   "outputs": [
    {
     "name": "stdout",
     "output_type": "stream",
     "text": [
      "      active_event  if_pan  if_zoom  if_selflocation  if_follow\n",
      "0                1       1        0                0          0\n",
      "1                2       1        0                0          0\n",
      "2                3       1        0                0          0\n",
      "3                4       1        1                0          0\n",
      "4                5       1        0                0          0\n",
      "...            ...     ...      ...              ...        ...\n",
      "3118          3119       1        0                0          0\n",
      "3119          3120       1        0                0          0\n",
      "3120          3121       1        0                0          0\n",
      "3121          3122       1        0                0          0\n",
      "3122          3123       1        0                0          0\n",
      "\n",
      "[3123 rows x 5 columns]\n"
     ]
    }
   ],
   "source": [
    "\n",
    "# Create a new DataFrame with 'active_event' and the 'if_pan' and 'if_zoom' columns\n",
    "new_df = df[['active_event']].copy()\n",
    "\n",
    "# Add the 'if_pan' column and set its value based on the condition\n",
    "new_df['if_pan'] = df['mapInteractions'].apply(lambda x: 1 if 'mapLog:positionXYZ' in str(x) else 0)\n",
    "new_df['if_zoom'] = df['mapInteractions'].apply(lambda x: 1 if 'mapLog:zoom' in str(x) else 0)\n",
    "new_df['if_selflocation'] = df['mapInteractions'].apply(lambda x: 1 if 'FocusOnPlayer' in str(x) else 0)\n",
    "new_df['if_follow'] = df['mapInteractions'].apply(lambda x: 1 if 'buttonOnFollowPlayer' in str(x) else 0)\n",
    "\n",
    "# Group by 'active_event' and use max to set if_pan and if_zoom to 1 if any row in the group has if_pan or if_zoom as 1\n",
    "grouped_df = new_df.groupby('active_event').agg({'if_pan': 'max', 'if_zoom': 'max','if_selflocation': 'max', 'if_follow': 'max' }).reset_index()\n",
    "\n",
    "print(grouped_df)"
   ]
  },
  {
   "cell_type": "code",
   "execution_count": 23,
   "metadata": {},
   "outputs": [],
   "source": [
    "result = pd.read_csv('result_indi_env.csv')\n",
    "\n",
    "result_indi_env_interaction = result.merge(grouped_df, how= 'left', left_on= 'event_number', right_on='active_event')\n",
    "result_indi_env_interaction = result_indi_env_interaction.drop(columns= 'active_event')\n",
    "result_indi_env_interaction = result_indi_env_interaction.drop(columns= 'Unnamed: 0')\n",
    "\n",
    "\n",
    "result_indi_env_interaction.to_csv('result_indi_env_interaction.csv')"
   ]
  },
  {
   "cell_type": "code",
   "execution_count": 25,
   "metadata": {},
   "outputs": [
    {
     "name": "stdout",
     "output_type": "stream",
     "text": [
      "              Mixed Linear Model Regression Results\n",
      "=================================================================\n",
      "Model:            MixedLM Dependent Variable: total_inactive_time\n",
      "No. Observations: 3117    Method:             REML               \n",
      "No. Groups:       54      Scale:              159.0670           \n",
      "Min. group size:  21      Log-Likelihood:     -12389.3962        \n",
      "Max. group size:  169     Converged:          Yes                \n",
      "Mean group size:  57.7                                           \n",
      "-----------------------------------------------------------------\n",
      "                       Coef.  Std.Err.   z    P>|z| [0.025 0.975]\n",
      "-----------------------------------------------------------------\n",
      "Intercept               4.557    6.884  0.662 0.508 -8.935 18.050\n",
      "traffic_density         1.414    0.461  3.071 0.002  0.512  2.317\n",
      "sbsod_score             2.460    0.956  2.573 0.010  0.587  4.334\n",
      "age                     2.560    1.845  1.388 0.165 -1.056  6.176\n",
      "mobile_map_freq_num    -1.829    1.759 -1.039 0.299 -5.277  1.620\n",
      "ifcross_preactive       0.917    0.651  1.408 0.159 -0.360  2.193\n",
      "ifcross_inactive       13.013    0.660 19.706 0.000 11.719 14.307\n",
      "completion_rate        -4.684    0.786 -5.957 0.000 -6.225 -3.143\n",
      "if_follow              -4.302    1.660 -2.591 0.010 -7.556 -1.047\n",
      "Group Var              53.401    0.931                           \n",
      "=================================================================\n",
      "\n"
     ]
    }
   ],
   "source": [
    "# Define the formula for the linear mixed model\n",
    "import statsmodels.api as sm\n",
    "import statsmodels.formula.api as smf\n",
    "df = pd.read_csv('result_indi_env_interaction.csv')\n",
    "formula = 'total_inactive_time ~ traffic_density + sbsod_score + age + mobile_map_freq_num + ifcross_preactive + ifcross_inactive + completion_rate + if_follow'\n",
    "\n",
    "# Fit the model with random intercepts for 'participant'\n",
    "model = smf.mixedlm(formula, df, groups=df['participant'])\n",
    "\n",
    "# Fit the model and print the summary\n",
    "result = model.fit()\n",
    "print(result.summary())"
   ]
  },
  {
   "cell_type": "code",
   "execution_count": 26,
   "metadata": {},
   "outputs": [
    {
     "name": "stdout",
     "output_type": "stream",
     "text": [
      "                  Generalized Linear Model Regression Results                  \n",
      "===============================================================================\n",
      "Dep. Variable:     total_inactive_time   No. Observations:                 3117\n",
      "Model:                             GLM   Df Residuals:                     3108\n",
      "Model Family:                 Gaussian   Df Model:                            8\n",
      "Link Function:                identity   Scale:                          191.90\n",
      "Method:                           IRLS   Log-Likelihood:                -12611.\n",
      "Date:                 Mon, 08 Jul 2024   Deviance:                   5.9644e+05\n",
      "Time:                         22:40:25   Pearson chi2:                 5.96e+05\n",
      "No. Iterations:                      3   Pseudo R-squ. (CS):             0.2762\n",
      "Covariance Type:             nonrobust                                         \n",
      "=======================================================================================\n",
      "                          coef    std err          z      P>|z|      [0.025      0.975]\n",
      "---------------------------------------------------------------------------------------\n",
      "Intercept               5.8518      1.844      3.174      0.002       2.238       9.465\n",
      "traffic_density         1.2168      0.501      2.431      0.015       0.236       2.198\n",
      "sbsod_score             1.8148      0.219      8.269      0.000       1.385       2.245\n",
      "age                     1.8069      0.469      3.852      0.000       0.888       2.726\n",
      "mobile_map_freq_num    -1.7907      0.465     -3.853      0.000      -2.702      -0.880\n",
      "ifcross_preactive       1.8745      0.707      2.651      0.008       0.489       3.260\n",
      "ifcross_inactive       17.2500      0.689     25.048      0.000      15.900      18.600\n",
      "completion_rate        -6.9818      0.852     -8.191      0.000      -8.652      -5.311\n",
      "if_follow              -5.6951      1.749     -3.257      0.001      -9.122      -2.268\n",
      "=======================================================================================\n"
     ]
    }
   ],
   "source": [
    "# Fit a GLM with Gaussian family\n",
    "model = smf.glm('total_inactive_time ~ traffic_density + sbsod_score + age + mobile_map_freq_num + ifcross_preactive + ifcross_inactive + completion_rate + if_follow', \n",
    "                 data=df, family=sm.families.Gaussian()).fit()\n",
    "\n",
    "print(model.summary())\n"
   ]
  }
 ],
 "metadata": {
  "kernelspec": {
   "display_name": "geo876",
   "language": "python",
   "name": "python3"
  },
  "language_info": {
   "codemirror_mode": {
    "name": "ipython",
    "version": 3
   },
   "file_extension": ".py",
   "mimetype": "text/x-python",
   "name": "python",
   "nbconvert_exporter": "python",
   "pygments_lexer": "ipython3",
   "version": "3.11.0"
  }
 },
 "nbformat": 4,
 "nbformat_minor": 2
}
