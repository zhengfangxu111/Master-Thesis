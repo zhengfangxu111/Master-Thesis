{
 "cells": [
  {
   "cell_type": "code",
   "execution_count": 7,
   "metadata": {},
   "outputs": [
    {
     "name": "stderr",
     "output_type": "stream",
     "text": [
      "C:\\Users\\xuzhengfang\\AppData\\Local\\Temp\\ipykernel_12136\\500406029.py:42: FutureWarning: Not prepending group keys to the result index of transform-like apply. In the future, the group keys will be included in the index, regardless of whether the applied function returns a like-indexed object.\n",
      "To preserve the previous behavior, use\n",
      "\n",
      "\t>>> .groupby(..., group_keys=False)\n",
      "\n",
      "To adopt the future behavior and silence this warning, use \n",
      "\n",
      "\t>>> .groupby(..., group_keys=True)\n",
      "  df = df.groupby('trajectory_Id').apply(assign_half)\n"
     ]
    }
   ],
   "source": [
    "import pandas as pd\n",
    "\n",
    "df = pd.read_csv('df_standard1.csv')\n",
    "\n",
    "# Initialize the lockscreen column with zeros\n",
    "df['lockscreen'] = 0\n",
    "\n",
    "\n",
    "# Group by 'trajectory_Id' and iterate over groups\n",
    "for traj_id, group in df.groupby('trajectory_Id'):\n",
    "    # Initialize lock screen state for each trajectory\n",
    "    lock_screen = False\n",
    "    \n",
    "    # Iterate over rows in the group\n",
    "    for index, row in group.iterrows():\n",
    "        # Check if mapInteractions column has 'mapLog:isScreenLocked+True'\n",
    "        if row['mapInteractions'] == 'mapLog:isScreenLocked+True':\n",
    "            # Set lock_screen to True\n",
    "            lock_screen = True\n",
    "        # Check if mapInteractions column has 'mapLog:isScreenLocked+False'\n",
    "        elif row['mapInteractions'] == 'mapLog:isScreenLocked+False':\n",
    "            # Set lock_screen to False\n",
    "            lock_screen = False\n",
    "        # Assign 1 to lockscreen column if lock_screen is True\n",
    "        if lock_screen:\n",
    "            df.at[index, 'lockscreen'] = 1\n",
    "\n",
    "\n",
    "# # Convert DateTime column to datetime format\n",
    "# df['DateTime'] = pd.to_datetime(df['DateTime'])\n",
    "\n",
    "# # Define a function to assign 'first' or 'second' based on DateTime\n",
    "# def assign_half(group):\n",
    "#     midpoint = group['DateTime'].iloc[len(group) // 2]\n",
    "#     group['half'] = group['DateTime'].apply(lambda x: 'first' if x <= midpoint else 'second')\n",
    "#     return group\n",
    "\n",
    "# # Group by 'trajectory_Id' and apply the function to each group\n",
    "# df = df.groupby('trajectory_Id').apply(assign_half)\n",
    "\n",
    "# Save the DataFrame with the new column\n",
    "df.to_csv(\"your_updated_dataset.csv\", index=False)"
   ]
  },
  {
   "cell_type": "code",
   "execution_count": 8,
   "metadata": {},
   "outputs": [],
   "source": [
    "#____________________ Phase Time Calculation\n",
    "import pandas as pd\n",
    "\n",
    "df = pd.read_csv('your_updated_dataset.csv')\n",
    "# Convert 'DateTime' column to datetime objects\n",
    "df['DateTime'] = pd.to_datetime(df['DateTime'])\n",
    "\n",
    "# Initialize new columns for planning time and navigation time\n",
    "df['active_time'] = 0\n",
    "df['inactive_time'] = 0\n",
    "\n",
    "# Group by 'trajectory_Id' and iterate over groups\n",
    "for traj_id, group in df.groupby('trajectory_Id'):\n",
    "    # Initialize variables to track previous time and index for planning and navigation phases\n",
    "    prev_active_time = None\n",
    "    prev_inactive_time = None\n",
    "    prev_active_index = None\n",
    "    prev_inactive_index = None\n",
    "    \n",
    "    # Iterate over rows in the group\n",
    "    for index, row in group.iterrows():\n",
    "        if row['lockscreen'] == 0:\n",
    "            if prev_active_time is None:\n",
    "                prev_active_time = row['DateTime']\n",
    "                prev_inactive_index = index\n",
    "            else:\n",
    "                current_time = row['DateTime']\n",
    "                active_time = (current_time - prev_active_time).total_seconds()\n",
    "                df.at[index, 'active_time'] = active_time\n",
    "                prev_active_time = current_time\n",
    "                prev_active_index = index\n",
    "            # Reset navigation variables when encountering planning phase\n",
    "            prev_inactive_time = None\n",
    "            \n",
    "        elif row['lockscreen'] == 1:\n",
    "            if prev_inactive_time is None:\n",
    "                prev_inactive_time = row['DateTime']\n",
    "                prev_inactive_index = index\n",
    "            else:\n",
    "                current_time = row['DateTime']\n",
    "                prev_inactive_time = (current_time - prev_inactive_time).total_seconds()\n",
    "                df.at[index, 'inactive_time'] = prev_inactive_time\n",
    "                prev_inactive_time = current_time\n",
    "                prev_inactive_index = index\n",
    "            # Reset planning variables when encountering navigation phase\n",
    "            prev_active_time = None\n",
    "\n",
    "\n",
    "# Save the DataFrame with the updated column\n",
    "df.to_csv('try.csv', index=False)"
   ]
  },
  {
   "cell_type": "code",
   "execution_count": 10,
   "metadata": {},
   "outputs": [],
   "source": [
    "import pandas as pd\n",
    "\n",
    "# Read your dataset into a pandas DataFrame\n",
    "df = pd.read_csv('try.csv')\n",
    "\n",
    "# Group by 'trajectory_Id' and 'half', then aggregate to calculate total active and inactive times\n",
    "grouped_df = df.groupby(['trajectory_Id', 'half']).agg({\n",
    "    'active_time': 'sum',\n",
    "    'inactive_time': 'sum'\n",
    "}).reset_index()\n",
    "\n",
    "# Rename columns for clarity\n",
    "grouped_df.rename(columns={'active_time': 'total_active_time', 'inactive_time': 'total_inactive_time'}, inplace=True)\n",
    "\n",
    "# Save the grouped DataFrame to a new CSV file\n",
    "grouped_df.to_csv(\"total_active_inactive_times.csv\", index=False)\n"
   ]
  },
  {
   "cell_type": "code",
   "execution_count": 11,
   "metadata": {},
   "outputs": [],
   "source": [
    "sum_df = grouped_df.groupby('half').agg({\n",
    "    'total_active_time': 'sum',\n",
    "    'total_inactive_time': 'sum'\n",
    "}).reset_index()\n",
    "\n",
    "# Save the resulting DataFrame to a new CSV file\n",
    "sum_df.to_csv(\"sum_total_active_inactive_times.csv\", index=False)"
   ]
  },
  {
   "cell_type": "code",
   "execution_count": null,
   "metadata": {},
   "outputs": [],
   "source": []
  },
  {
   "cell_type": "code",
   "execution_count": 21,
   "metadata": {},
   "outputs": [
    {
     "name": "stdout",
     "output_type": "stream",
     "text": [
      "The count of 'mapLog:isScreenLocked+False' in 'mapInteractions' when 'half' is 'first' is: 956\n",
      "The count of 'mapLog:isScreenLocked+False' in 'mapInteractions' when 'half' is 'second' is: 945\n"
     ]
    }
   ],
   "source": [
    "import pandas as pd\n",
    "\n",
    "# Load the dataset\n",
    "# Assuming the dataset is in a CSV file named 'data.csv'\n",
    "df = pd.read_csv('try.csv')\n",
    "\n",
    "# Filter for 'half' being 'first'\n",
    "first_half_df = df[df['half'] == 'first']\n",
    "# Count occurrences where 'mapInteractions' is 'mapLog:isScreenLocked+False' in 'first' half\n",
    "first_half_count = (first_half_df['mapInteractions'] == 'mapLog:isScreenLocked+False').sum()\n",
    "\n",
    "# Filter for 'half' being 'second'\n",
    "second_half_df = df[df['half'] == 'second']\n",
    "# Count occurrences where 'mapInteractions' is 'mapLog:isScreenLocked+False' in 'second' half\n",
    "second_half_count = (second_half_df['mapInteractions'] == 'mapLog:isScreenLocked+False').sum()\n",
    "\n",
    "print(f\"The count of 'mapLog:isScreenLocked+False' in 'mapInteractions' when 'half' is 'first' is: {first_half_count}\")\n",
    "print(f\"The count of 'mapLog:isScreenLocked+False' in 'mapInteractions' when 'half' is 'second' is: {second_half_count}\")\n"
   ]
  }
 ],
 "metadata": {
  "kernelspec": {
   "display_name": "geo876",
   "language": "python",
   "name": "python3"
  },
  "language_info": {
   "codemirror_mode": {
    "name": "ipython",
    "version": 3
   },
   "file_extension": ".py",
   "mimetype": "text/x-python",
   "name": "python",
   "nbconvert_exporter": "python",
   "pygments_lexer": "ipython3",
   "version": "3.11.0"
  }
 },
 "nbformat": 4,
 "nbformat_minor": 2
}
